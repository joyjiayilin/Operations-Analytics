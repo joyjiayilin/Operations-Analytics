{
 "cells": [
  {
   "cell_type": "code",
   "execution_count": 1,
   "metadata": {},
   "outputs": [],
   "source": [
    "from gurobipy import *\n",
    "import numpy as np"
   ]
  },
  {
   "cell_type": "markdown",
   "metadata": {},
   "source": [
    "# MGMTMSA 408 – Operations Analytics\n",
    "# Homework 1 – LP Duality and Revenue Management\n",
    "### Name: Joy Lin                                 \n",
    "### UID: 806304435\n",
    "\n",
    "\n",
    "\n",
    "## 1 LP Duality\n",
    "### Part 1: LP Formulation\n",
    "#### a)\n",
    "\n",
    "* **Decision Variables**\n",
    "\n",
    "\\begin{align*}\n",
    "a &: \\text{number of Type 1 Chip to produce } \\\\\n",
    "b &: \\text{number of Type 2 Chip to produce } \\\\\n",
    "c &: \\text{number of Type 3 Chip to produce } \\\\\n",
    "\\end{align*}\n",
    "\n",
    "* **Objective Function**\n",
    "\n",
    "\\begin{equation*}\n",
    "max (500a + 800b + 1000c)\n",
    "\\end{equation*}\n",
    "\n",
    "* **Constraints**\n",
    "\n",
    "> Ge Transistors limit\n",
    "\n",
    "\\begin{equation*}\n",
    "14a + 20b + 40c \\leq 300\n",
    "\\end{equation*}\n",
    "\n",
    "> Si Transistors limit\n",
    "\n",
    "\\begin{equation*}\n",
    "30a + 20b + 15c \\leq 200\n",
    "\\end{equation*}\n",
    "\n",
    "> Manufacturing Time limit\n",
    "\n",
    "\\begin{equation*}\n",
    "20a + 30b + 50c \\leq 18*60\n",
    "\\end{equation*}\n",
    "\n",
    "> Non-negativity\n",
    "\n",
    "\\begin{equation*}\n",
    "a \\geq 0 \\\\\n",
    "b \\geq 0 \\\\\n",
    "c \\geq 0 \\\\\n",
    "\\end{equation*}\n",
    "\n",
    "\n",
    "\n",
    "#### b)"
   ]
  },
  {
   "cell_type": "code",
   "execution_count": 4,
   "metadata": {},
   "outputs": [
    {
     "name": "stdout",
     "output_type": "stream",
     "text": [
      "Gurobi Optimizer version 11.0.0 build v11.0.0rc2 (mac64[x86] - Darwin 23.2.0 23C71)\n",
      "\n",
      "CPU model: Intel(R) Core(TM) i5-1038NG7 CPU @ 2.00GHz\n",
      "Thread count: 4 physical cores, 8 logical processors, using up to 8 threads\n",
      "\n",
      "Optimize a model with 3 rows, 3 columns and 9 nonzeros\n",
      "Model fingerprint: 0xc6454fc5\n",
      "Coefficient statistics:\n",
      "  Matrix range     [1e+01, 5e+01]\n",
      "  Objective range  [5e+02, 1e+03]\n",
      "  Bounds range     [0e+00, 0e+00]\n",
      "  RHS range        [2e+02, 1e+03]\n",
      "Presolve removed 1 rows and 0 columns\n",
      "Presolve time: 0.01s\n",
      "Presolved: 2 rows, 3 columns, 6 nonzeros\n",
      "\n",
      "Iteration    Objective       Primal Inf.    Dual Inf.      Time\n",
      "       0    1.2000000e+04   8.114000e+00   0.000000e+00      0s\n",
      "       2    9.6000000e+03   0.000000e+00   0.000000e+00      0s\n",
      "\n",
      "Solved in 2 iterations and 0.01 seconds (0.00 work units)\n",
      "Optimal objective  9.600000000e+03\n"
     ]
    }
   ],
   "source": [
    "# Create the model. \n",
    "m = Model()\n",
    "\n",
    "# Add the variables. \n",
    "a = m.addVar() \n",
    "b = m.addVar()\n",
    "c = m.addVar()\n",
    "\n",
    "# Create the constraints. \n",
    "# Resource constraints:\n",
    "constr_g =    m.addConstr( 14*a + 20*b + 40*c <= 300  )\n",
    "constr_s =    m.addConstr( 30*a + 20*b + 15*c <= 200  )\n",
    "constr_t =    m.addConstr( 20*a + 30*b + 50*c <= 18*60)\n",
    "\n",
    "# Create the objective function.\n",
    "m.setObjective(500*a + 800*b + 1000*c, GRB.MAXIMIZE)\n",
    "\n",
    "m.update()\n",
    "\n",
    "m.optimize()"
   ]
  },
  {
   "cell_type": "code",
   "execution_count": 5,
   "metadata": {},
   "outputs": [
    {
     "name": "stdout",
     "output_type": "stream",
     "text": [
      "Optimal objective:  9600.0\n"
     ]
    }
   ],
   "source": [
    "# Extract the optimal objective value.\n",
    "optimal_obj = m.objval\n",
    "print(\"Optimal objective: \", optimal_obj)"
   ]
  },
  {
   "cell_type": "markdown",
   "metadata": {},
   "source": [
    "#### c)"
   ]
  },
  {
   "cell_type": "code",
   "execution_count": 6,
   "metadata": {},
   "outputs": [
    {
     "name": "stdout",
     "output_type": "stream",
     "text": [
      "Number of Type 1 Chip:  0.0\n",
      "Number of Type 2 Chip:  7.0\n",
      "Number of Type 3 Chip:  4.0\n"
     ]
    }
   ],
   "source": [
    "# Extract the optimal values of the decision variables.\n",
    "a_value = a.x\n",
    "b_value = b.x\n",
    "c_value = c.x\n",
    "\n",
    "print(\"Number of Type 1 Chip: \", a_value)\n",
    "print(\"Number of Type 2 Chip: \", b_value)\n",
    "print(\"Number of Type 3 Chip: \", c_value)"
   ]
  },
  {
   "cell_type": "markdown",
   "metadata": {},
   "source": [
    "### Part 2: Dual Formulation\n",
    "\n",
    "#### a)\n",
    "\n",
    "* **Decision Variables**\n",
    "\n",
    "\\begin{align*}\n",
    "p_g &: \\text{weight of Ge Transistors } \\\\\n",
    "p_s &: \\text{weight of Si Transistors } \\\\\n",
    "p_m &: \\text{weight of Manufacturing Time } \\\\\n",
    "\\end{align*}\n",
    "\n",
    "* **Objective Function**\n",
    "\n",
    "\\begin{equation*}\n",
    "min (300p_g + 200p_s + 18*60p_m)\n",
    "\\end{equation*}\n",
    "\n",
    "* **Constraints**\n",
    "\n",
    "> Type 1 Chip limit\n",
    "\n",
    "\\begin{equation*}\n",
    "14p_g + 30p_s + 20p_m \\geq 500\n",
    "\\end{equation*}\n",
    "\n",
    "> Type 2 Chip limit\n",
    "\n",
    "\\begin{equation*}\n",
    "20p_g + 20p_s + 30p_m \\geq 800\n",
    "\\end{equation*}\n",
    "\n",
    "> Type 3 Chip limit\n",
    "\n",
    "\\begin{equation*}\n",
    "40p_g + 15p_s + 50p_m \\geq 1000\n",
    "\\end{equation*}\n",
    "\n",
    "> Non-negativity\n",
    "\n",
    "\\begin{equation*}\n",
    "p_g \\geq 0 \\\\\n",
    "p_s \\geq 0 \\\\\n",
    "p_m \\geq 0 \\\\\n",
    "\\end{equation*}\n",
    "\n",
    "\n",
    "\n",
    "#### b)"
   ]
  },
  {
   "cell_type": "code",
   "execution_count": 7,
   "metadata": {},
   "outputs": [
    {
     "name": "stdout",
     "output_type": "stream",
     "text": [
      "Gurobi Optimizer version 11.0.0 build v11.0.0rc2 (mac64[x86] - Darwin 23.2.0 23C71)\n",
      "\n",
      "CPU model: Intel(R) Core(TM) i5-1038NG7 CPU @ 2.00GHz\n",
      "Thread count: 4 physical cores, 8 logical processors, using up to 8 threads\n",
      "\n",
      "Optimize a model with 3 rows, 3 columns and 9 nonzeros\n",
      "Model fingerprint: 0xcdc0bb64\n",
      "Coefficient statistics:\n",
      "  Matrix range     [1e+01, 5e+01]\n",
      "  Objective range  [2e+02, 1e+03]\n",
      "  Bounds range     [0e+00, 0e+00]\n",
      "  RHS range        [5e+02, 1e+03]\n",
      "Presolve removed 0 rows and 1 columns\n",
      "Presolve time: 0.01s\n",
      "Presolved: 3 rows, 2 columns, 6 nonzeros\n",
      "\n",
      "Iteration    Objective       Primal Inf.    Dual Inf.      Time\n",
      "       0    0.0000000e+00   2.875000e+02   0.000000e+00      0s\n",
      "       2    9.6000000e+03   0.000000e+00   0.000000e+00      0s\n",
      "\n",
      "Solved in 2 iterations and 0.01 seconds (0.00 work units)\n",
      "Optimal objective  9.600000000e+03\n"
     ]
    }
   ],
   "source": [
    "m_dual = Model()\n",
    "\n",
    "p_g = m_dual.addVar()\n",
    "p_s = m_dual.addVar()\n",
    "p_t = m_dual.addVar()\n",
    "\n",
    "# Create the dual constraints\n",
    "m_dual.addConstr( 14*p_g + 30*p_s + 20*p_t >= 500  )\n",
    "m_dual.addConstr( 20*p_g + 20*p_s + 30*p_t >= 800  )\n",
    "m_dual.addConstr( 40*p_g + 15*p_s + 50*p_t >= 1000 )\n",
    "\n",
    "m_dual.setObjective( 300 * p_g + 200 * p_s + 18*60 * p_t, GRB.MINIMIZE)\n",
    "\n",
    "m_dual.update()\n",
    "\n",
    "m_dual.optimize()"
   ]
  },
  {
   "cell_type": "code",
   "execution_count": 8,
   "metadata": {},
   "outputs": [
    {
     "name": "stdout",
     "output_type": "stream",
     "text": [
      "Dual optimal objective:  9600.0\n"
     ]
    }
   ],
   "source": [
    "# Extract the dual optimal objective value.\n",
    "dual_optimal_obj = m_dual.objval\n",
    "print(\"Dual optimal objective: \", dual_optimal_obj)"
   ]
  },
  {
   "cell_type": "markdown",
   "metadata": {},
   "source": [
    "#### c)"
   ]
  },
  {
   "cell_type": "code",
   "execution_count": 9,
   "metadata": {},
   "outputs": [
    {
     "name": "stdout",
     "output_type": "stream",
     "text": [
      "Dual variable for Ge Transistors:  16.0\n",
      "Dual variable for Si Transistors:  24.0\n",
      "Dual variable for Manufacturing Time:  0.0\n"
     ]
    }
   ],
   "source": [
    "p_g_value = p_g.x\n",
    "p_s_value = p_s.x\n",
    "p_t_value = p_t.x\n",
    "\n",
    "print(\"Dual variable for Ge Transistors: \", p_g_value)\n",
    "print(\"Dual variable for Si Transistors: \", p_s_value)\n",
    "print(\"Dual variable for Manufacturing Time: \", p_t_value)"
   ]
  },
  {
   "cell_type": "markdown",
   "metadata": {},
   "source": [
    "#### d)"
   ]
  },
  {
   "cell_type": "code",
   "execution_count": 10,
   "metadata": {},
   "outputs": [
    {
     "name": "stdout",
     "output_type": "stream",
     "text": [
      "[16.0, 24.0, 0.0]\n"
     ]
    }
   ],
   "source": [
    "dual_values = [constr_g.pi, constr_s.pi, constr_t.pi]\n",
    "print(dual_values)"
   ]
  },
  {
   "cell_type": "markdown",
   "metadata": {},
   "source": [
    "### Part 3: Shadow Prices\n",
    "\n",
    "#### a) To increase the plant’s revenue, a plant manager suggests increasing the amount of manufacturing time by 10 hours. Will this change result in an improvement in revenue? Explain your answer.\n",
    "\n",
    "This change will not result in an improvement in revenue.\n",
    "This is because we are not using up the available manufacturing time in the initial scenario, so boosting manufacturing time will not enhance revenue."
   ]
  },
  {
   "cell_type": "markdown",
   "metadata": {},
   "source": [
    "#### b) A different plant manager proposes increasing the amount of available Ge transistors by 10 billion. Based on the shadow prices/optimal dual variables, what is your prediction of how much the revenue will change from your answer in Part 1-b)?"
   ]
  },
  {
   "cell_type": "code",
   "execution_count": 93,
   "metadata": {},
   "outputs": [
    {
     "name": "stdout",
     "output_type": "stream",
     "text": [
      "My prediction of how much the revenue will change from my answer in Part 1-b) is $ 160  billion.\n"
     ]
    }
   ],
   "source": [
    "print(\"My prediction of how much the revenue will change from my answer in Part 1-b) is $\", 16 * 10, \" billion.\")"
   ]
  },
  {
   "cell_type": "markdown",
   "metadata": {},
   "source": [
    "#### c) Verify your answer to part b) by solving the primal LP from Part 1 with the right-hand side of the Ge transistor constraint increased by 10."
   ]
  },
  {
   "cell_type": "code",
   "execution_count": 94,
   "metadata": {},
   "outputs": [
    {
     "name": "stdout",
     "output_type": "stream",
     "text": [
      "Gurobi Optimizer version 11.0.0 build v11.0.0rc2 (mac64[x86] - Darwin 23.2.0 23C71)\n",
      "\n",
      "CPU model: Intel(R) Core(TM) i5-1038NG7 CPU @ 2.00GHz\n",
      "Thread count: 4 physical cores, 8 logical processors, using up to 8 threads\n",
      "\n",
      "Optimize a model with 3 rows, 3 columns and 9 nonzeros\n",
      "Coefficient statistics:\n",
      "  Matrix range     [1e+01, 5e+01]\n",
      "  Objective range  [5e+02, 1e+03]\n",
      "  Bounds range     [0e+00, 0e+00]\n",
      "  RHS range        [2e+02, 1e+03]\n",
      "LP warm-start: use basis\n",
      "Iteration    Objective       Primal Inf.    Dual Inf.      Time\n",
      "       0    9.7600000e+03   0.000000e+00   0.000000e+00      0s\n",
      "\n",
      "Solved in 0 iterations and 0.01 seconds (0.00 work units)\n",
      "Optimal objective  9.760000000e+03\n"
     ]
    }
   ],
   "source": [
    "constr_g.rhs = 310\n",
    "m.update()\n",
    "m.optimize()"
   ]
  },
  {
   "cell_type": "code",
   "execution_count": 95,
   "metadata": {},
   "outputs": [
    {
     "name": "stdout",
     "output_type": "stream",
     "text": [
      "Optimal objective:  9760.0\n",
      "Number of Type 1 Chip:  0.0\n",
      "Number of Type 2 Chip:  6.7\n",
      "Number of Type 3 Chip:  4.4\n",
      "The revenue will change from my answer in Part 1-b) by $ 160.0 .\n"
     ]
    }
   ],
   "source": [
    "# Extract the optimal objective value.\n",
    "optimal_obj = m.objval\n",
    "print(\"Optimal objective: \", optimal_obj)\n",
    "\n",
    "# Extract the optimal values of the decision variables.\n",
    "a_value = a.x\n",
    "b_value = b.x\n",
    "c_value = c.x\n",
    "\n",
    "print(\"Number of Type 1 Chip: \", a_value)\n",
    "print(\"Number of Type 2 Chip: \", b_value)\n",
    "print(\"Number of Type 3 Chip: \", c_value)\n",
    "\n",
    "print(\"The revenue will change from my answer in Part 1-b) by $\", optimal_obj - 9600, \".\")"
   ]
  },
  {
   "cell_type": "markdown",
   "metadata": {},
   "source": [
    "#### d) Suppose now that instead of increasing the amount of available Ge transistors by 10 billion, we consider increasing it by 300 billion. Based on the shadow prices, what is your prediction of how much the objective will change from your answer in Part 1-b)?"
   ]
  },
  {
   "cell_type": "code",
   "execution_count": 96,
   "metadata": {},
   "outputs": [
    {
     "name": "stdout",
     "output_type": "stream",
     "text": [
      "My prediction of how much the revenue will change from my answer in Part 1-b) is $ 4800  billion.\n"
     ]
    }
   ],
   "source": [
    "print(\"My prediction of how much the revenue will change from my answer in Part 1-b) is $\", 16 * 300, \" billion.\")"
   ]
  },
  {
   "cell_type": "markdown",
   "metadata": {},
   "source": [
    "#### e) Check your answer in d) by solving the primal LP from Part 1 with the right-hand side of the Ge constraint increased by 300. What is the change in revenue from your answer in Part 1-b)? (You will find that it is not the same as the value in d).) What explains this discrepancy?"
   ]
  },
  {
   "cell_type": "code",
   "execution_count": 97,
   "metadata": {},
   "outputs": [
    {
     "name": "stdout",
     "output_type": "stream",
     "text": [
      "Gurobi Optimizer version 11.0.0 build v11.0.0rc2 (mac64[x86] - Darwin 23.2.0 23C71)\n",
      "\n",
      "CPU model: Intel(R) Core(TM) i5-1038NG7 CPU @ 2.00GHz\n",
      "Thread count: 4 physical cores, 8 logical processors, using up to 8 threads\n",
      "\n",
      "Optimize a model with 3 rows, 3 columns and 9 nonzeros\n",
      "Coefficient statistics:\n",
      "  Matrix range     [1e+01, 5e+01]\n",
      "  Objective range  [5e+02, 1e+03]\n",
      "  Bounds range     [0e+00, 0e+00]\n",
      "  RHS range        [2e+02, 1e+03]\n",
      "LP warm-start: use basis\n",
      "Iteration    Objective       Primal Inf.    Dual Inf.      Time\n",
      "       0    1.4400000e+04   8.000000e+00   0.000000e+00      0s\n",
      "       1    1.3333333e+04   0.000000e+00   0.000000e+00      0s\n",
      "\n",
      "Solved in 1 iterations and 0.01 seconds (0.00 work units)\n",
      "Optimal objective  1.333333333e+04\n"
     ]
    }
   ],
   "source": [
    "constr_g.rhs = 600\n",
    "m.update()\n",
    "m.optimize()"
   ]
  },
  {
   "cell_type": "code",
   "execution_count": 98,
   "metadata": {},
   "outputs": [
    {
     "name": "stdout",
     "output_type": "stream",
     "text": [
      "Optimal objective:  13333.333333333334\n",
      "Number of Type 1 Chip:  0.0\n",
      "Number of Type 2 Chip:  0.0\n",
      "Number of Type 3 Chip:  13.333333333333334\n",
      "The revenue will change from my answer in Part 1-b) by $ 3733.333333333334 .\n"
     ]
    }
   ],
   "source": [
    "# Extract the optimal objective value.\n",
    "optimal_obj = m.objval\n",
    "print(\"Optimal objective: \", optimal_obj)\n",
    "\n",
    "# Extract the optimal values of the decision variables.\n",
    "a_value = a.x\n",
    "b_value = b.x\n",
    "c_value = c.x\n",
    "\n",
    "print(\"Number of Type 1 Chip: \", a_value)\n",
    "print(\"Number of Type 2 Chip: \", b_value)\n",
    "print(\"Number of Type 3 Chip: \", c_value)\n",
    "\n",
    "print(\"The revenue will change from my answer in Part 1-b) by $\", optimal_obj - 9600, \".\")"
   ]
  },
  {
   "cell_type": "markdown",
   "metadata": {},
   "source": [
    "#### f) Lastly, suppose that instead of increasing only the amount of available Ge transistors, we consider increasing the amount of available Ge transistors by 10 billion and the amount of Si transistors by 20 billion. What is your prediction of the change in the objective from your answer in Part 2-b)?"
   ]
  },
  {
   "cell_type": "code",
   "execution_count": 99,
   "metadata": {},
   "outputs": [
    {
     "name": "stdout",
     "output_type": "stream",
     "text": [
      "My prediction of the change in the objective from my answer in Part 2-b) is $ 640 .\n"
     ]
    }
   ],
   "source": [
    "print(\"My prediction of the change in the objective from my answer in Part 2-b) is $\", 16*10 + 24*20, \".\")"
   ]
  },
  {
   "cell_type": "markdown",
   "metadata": {},
   "source": [
    "#### g) Check your answer in f) by solving the primal LP from Part 1 with the right-hand side of the Ge constraint increased by 10 and the right-hand side of the Si constraint increased by 20. What is the change in revenue from your answer in Part 1-b)?"
   ]
  },
  {
   "cell_type": "code",
   "execution_count": 100,
   "metadata": {},
   "outputs": [
    {
     "name": "stdout",
     "output_type": "stream",
     "text": [
      "Gurobi Optimizer version 11.0.0 build v11.0.0rc2 (mac64[x86] - Darwin 23.2.0 23C71)\n",
      "\n",
      "CPU model: Intel(R) Core(TM) i5-1038NG7 CPU @ 2.00GHz\n",
      "Thread count: 4 physical cores, 8 logical processors, using up to 8 threads\n",
      "\n",
      "Optimize a model with 3 rows, 3 columns and 9 nonzeros\n",
      "Coefficient statistics:\n",
      "  Matrix range     [1e+01, 5e+01]\n",
      "  Objective range  [5e+02, 1e+03]\n",
      "  Bounds range     [0e+00, 0e+00]\n",
      "  RHS range        [2e+02, 1e+03]\n",
      "LP warm-start: use basis\n",
      "Iteration    Objective       Primal Inf.    Dual Inf.      Time\n",
      "       0    1.4666667e+04   3.458333e+01   0.000000e+00      0s\n",
      "       1    1.0240000e+04   0.000000e+00   0.000000e+00      0s\n",
      "\n",
      "Solved in 1 iterations and 0.01 seconds (0.00 work units)\n",
      "Optimal objective  1.024000000e+04\n"
     ]
    }
   ],
   "source": [
    "constr_g.rhs = 310\n",
    "constr_s.rhs = 220\n",
    "m.update()\n",
    "m.optimize()"
   ]
  },
  {
   "cell_type": "code",
   "execution_count": 101,
   "metadata": {},
   "outputs": [
    {
     "name": "stdout",
     "output_type": "stream",
     "text": [
      "Optimal objective:  10240.0\n",
      "Number of Type 1 Chip:  0.0\n",
      "Number of Type 2 Chip:  8.3\n",
      "Number of Type 3 Chip:  3.6\n",
      "The revenue will change from my answer in Part 1-b) by $ 640.0 .\n"
     ]
    }
   ],
   "source": [
    "# Extract the optimal objective value.\n",
    "optimal_obj = m.objval\n",
    "print(\"Optimal objective: \", optimal_obj)\n",
    "\n",
    "# Extract the optimal values of the decision variables.\n",
    "a_value = a.x\n",
    "b_value = b.x\n",
    "c_value = c.x\n",
    "\n",
    "print(\"Number of Type 1 Chip: \", a_value)\n",
    "print(\"Number of Type 2 Chip: \", b_value)\n",
    "print(\"Number of Type 3 Chip: \", c_value)\n",
    "\n",
    "print(\"The revenue will change from my answer in Part 1-b) by $\", optimal_obj - 9600, \".\")"
   ]
  },
  {
   "cell_type": "markdown",
   "metadata": {},
   "source": [
    "# 2 Cloud Computing\n",
    "## Part 1: Capacity control formulation\n",
    "### a)\n",
    "\n",
    "\\begin{equation*}\n",
    "max (7x_1 + 12x_2 + 24x_3 + 22x_4 + 44x_5 + 88x_6 + 30x_7 + 90x_8 + 120x_9)\n",
    "\\end{equation*}\n",
    "\n",
    "### b)\n",
    "\n",
    "\\begin{equation*}\n",
    "8x_1 + 16x_2 + 32x_3 + 32x_4 + 64x_5 + 128x_6 + 16x_7 + 32x_8 + 64x_9 \\leq 1024\n",
    "\\end{equation*}\n",
    "\n",
    "\n",
    "### c)\n",
    "\n",
    "\\begin{equation*}\n",
    "\\lambda T = 2.6 * 5 = 13\n",
    "\\end{equation*}\n",
    "\n",
    "\n",
    "### d)\n",
    "\n",
    "* **Parameters**\n",
    "\n",
    "\\begin{align*}\n",
    "i &: \\text{instance type } \\\\\n",
    "p_i &: \\text{price of instance type } i \\\\\n",
    "C_i &: \\text{CPU of instance type } i \\\\\n",
    "m_i &: \\text{memory of instance type } i \\\\\n",
    "G_i &: \\text{GBU of instance type } i \\\\\n",
    "r_i &: \\text{rate of instance type } i \\\\\n",
    "\\end{align*}\n",
    "\n",
    "* **Objective Function**\n",
    "\n",
    "\\begin{equation*}\n",
    "max \\sum_{i=1}^{9} x_i * p_i \\\\\n",
    "max (7x_1 + 12x_2 + 24x_3 + 22x_4 + 44x_5 + 88x_6 + 30x_7 + 90x_8 + 120x_9)\n",
    "\\end{equation*}\n",
    "\n",
    "\n",
    "* **Constraints**\n",
    "\n",
    "> CPU limit\n",
    "\n",
    "\\begin{equation*}\n",
    "\\sum_{i=1}^{9} x_i * C_i \\leq 512 \\\\\n",
    "16x_1 + 32x_2 + 64x_3 + 8x_4 + 16x_5 + 32x_6 + 16x_7 + 32x_8 + 64x_9 \\leq 512\n",
    "\\end{equation*}\n",
    "\n",
    "> Memory limit\n",
    "\n",
    "\\begin{equation*}\n",
    "\\sum_{i=1}^{9} x_i * m_i \\leq 1024 \\\\\n",
    "8x_1 + 16x_2 + 32x_3 + 32x_4 + 64x_5 + 128x_6 + 16x_7 + 32x_8 + 64x_9 \\leq 1024\n",
    "\\end{equation*}\n",
    "\n",
    "> GBU limit\n",
    "\n",
    "\\begin{equation*}\n",
    "\\sum_{i=1}^{9} x_i * G_i \\leq 64 \\\\\n",
    "x_1 + x_2 + x_3 + x_4 + x_5 + x_6 + 2x_7 + 6x_8 + 8x_9 \\leq 64\n",
    "\\end{equation*}\n",
    "\n",
    "> Rate\n",
    "\n",
    "\\begin{equation*}\n",
    "x_i \\leq 5 * r_i  \\\\ \n",
    "x_1 \\leq 5 * 5 \\\\\n",
    "x_2 \\leq 5 * 5 \\\\\n",
    "x_3 \\leq 5 * 1.8 \\\\\n",
    "x_4 \\leq 5 * 3 \\\\\n",
    "x_5 \\leq 5 * 2.6 \\\\\n",
    "x_6 \\leq 5 * 1 \\\\\n",
    "x_7 \\leq 5 * 0.8 \\\\\n",
    "x_8 \\leq 5 * 0.4 \\\\\n",
    "x_9 \\leq 5 * 0.3 \\\\\n",
    "\\end{equation*}\n",
    "\n",
    "> Non-negativity\n",
    "\n",
    "\\begin{equation*}\n",
    "x_i \\geq 0, i = 1,...,9 \\\\\n",
    "\\end{equation*}\n"
   ]
  },
  {
   "cell_type": "markdown",
   "metadata": {},
   "source": [
    "## Part 2: Solving the capacity control problem in Python/Gurobi\n",
    "\n",
    "### a)"
   ]
  },
  {
   "cell_type": "code",
   "execution_count": 102,
   "metadata": {},
   "outputs": [],
   "source": [
    "# The number of instance types\n",
    "nIns = 9\n",
    "\n",
    "# for each instance type:\n",
    "C = np.array([16,32,64,8,16,32,16,32,64])\n",
    "M = np.array([8,16,32,32,64,128,16,32,64])\n",
    "G = np.array([1,1,1,1,1,1,2,6,8])\n",
    "p = np.array([7,12,24,22,44,88,30,90,120])\n",
    "rate = np.array([5.0, 5.0, 1.8, 3.0, 2.6, 1.0, 0.8, 0.4, 0.3])\n",
    "\n",
    "# Poisson\n",
    "T = 5"
   ]
  },
  {
   "cell_type": "code",
   "execution_count": 103,
   "metadata": {},
   "outputs": [
    {
     "name": "stdout",
     "output_type": "stream",
     "text": [
      "Gurobi Optimizer version 11.0.0 build v11.0.0rc2 (mac64[x86] - Darwin 23.2.0 23C71)\n",
      "\n",
      "CPU model: Intel(R) Core(TM) i5-1038NG7 CPU @ 2.00GHz\n",
      "Thread count: 4 physical cores, 8 logical processors, using up to 8 threads\n",
      "\n",
      "Optimize a model with 3 rows, 9 columns and 27 nonzeros\n",
      "Model fingerprint: 0x207d4a09\n",
      "Coefficient statistics:\n",
      "  Matrix range     [1e+00, 1e+02]\n",
      "  Objective range  [7e+00, 1e+02]\n",
      "  Bounds range     [2e+00, 2e+01]\n",
      "  RHS range        [6e+01, 1e+03]\n",
      "Presolve removed 0 rows and 1 columns\n",
      "Presolve time: 0.01s\n",
      "Presolved: 3 rows, 8 columns, 24 nonzeros\n",
      "\n",
      "Iteration    Objective       Primal Inf.    Dual Inf.      Time\n",
      "       0    1.4400000e+03   7.200000e+01   0.000000e+00      0s\n",
      "       3    1.0394286e+03   0.000000e+00   0.000000e+00      0s\n",
      "\n",
      "Solved in 3 iterations and 0.01 seconds (0.00 work units)\n",
      "Optimal objective  1.039428571e+03\n"
     ]
    }
   ],
   "source": [
    "# Create the model\n",
    "m = Model()\n",
    "\n",
    "# Create variables\n",
    "x = m.addVars(nIns, lb = 0, ub = T*rate)\n",
    "\n",
    "# Create the seat constraint\n",
    "C_constr = m.addConstr( sum(x[i] * C[i] for i in range(nIns)) <= 512 )\n",
    "m_constr = m.addConstr( sum(x[i] * M[i] for i in range(nIns)) <= 1024)\n",
    "G_constr = m.addConstr( sum(x[i] * G[i] for i in range(nIns)) <= 64)\n",
    "\n",
    "# Set the objective\n",
    "m.setObjective(sum( x[i] * p[i] for i in range(nIns)), GRB.MAXIMIZE )\n",
    "\n",
    "# Update + solve:\n",
    "m.update()\n",
    "m.optimize()"
   ]
  },
  {
   "cell_type": "code",
   "execution_count": 104,
   "metadata": {},
   "outputs": [
    {
     "name": "stdout",
     "output_type": "stream",
     "text": [
      "Optimal objective:  1039.4285714285716\n"
     ]
    }
   ],
   "source": [
    "# Extract the optimal objective value.\n",
    "optimal_obj = m.objval\n",
    "print(\"Optimal objective: \", optimal_obj)"
   ]
  },
  {
   "cell_type": "markdown",
   "metadata": {},
   "source": [
    "### b)"
   ]
  },
  {
   "cell_type": "code",
   "execution_count": 105,
   "metadata": {},
   "outputs": [
    {
     "name": "stdout",
     "output_type": "stream",
     "text": [
      "Number of requests of instance type C1 accepted:  6.285714285714286\n"
     ]
    }
   ],
   "source": [
    "# Extract the optimal values of the decision variable x_1\n",
    "allocation = np.array([x[i].x for i in range(nIns)])\n",
    "\n",
    "print(\"Number of requests of instance type C1 accepted: \", allocation[0])"
   ]
  },
  {
   "cell_type": "markdown",
   "metadata": {},
   "source": [
    "## Part 3: Simulating current practice"
   ]
  },
  {
   "cell_type": "markdown",
   "metadata": {},
   "source": [
    "## Function to generate arrival sequences (Q2, Part 3)"
   ]
  },
  {
   "cell_type": "code",
   "execution_count": 106,
   "metadata": {},
   "outputs": [
    {
     "data": {
      "text/plain": [
       "80.71"
      ]
     },
     "execution_count": 106,
     "metadata": {},
     "output_type": "execute_result"
    }
   ],
   "source": [
    "# Preconditions:\n",
    "# nSimulations = integer specifying number of simulations to run\n",
    "# rates = array containing arrival rate (# / day) for each of the instance\n",
    "# types (should be an array with 9 elements)\n",
    "# T = length of horizon in days.\n",
    "\n",
    "def generateArrivalSequences( nSimulations, rates, T ):\n",
    "    total_rate = sum(rates)\n",
    "    nTypes = len(rates)\n",
    "\n",
    "    arrival_sequences_times = []\n",
    "    arrival_sequences_types = [];\n",
    "\n",
    "    for s in range(nSimulations):\n",
    "        single_arrival_sequence_time = [];\n",
    "        single_arrival_sequence_type = [];\n",
    "        t = 0;\n",
    "        while (t < T):\n",
    "            single_time = np.random.exponential(1.0/total_rate)\n",
    "            single_type = np.random.choice(nTypes, p= rates/total_rate )\n",
    "\n",
    "            t += single_time;\n",
    "\n",
    "            if (t < T):\n",
    "                single_arrival_sequence_time.append(t)\n",
    "                single_arrival_sequence_type.append(single_type)\n",
    "            else:\n",
    "                break\n",
    "\n",
    "        arrival_sequences_times.append(np.array(single_arrival_sequence_time))\n",
    "        arrival_sequences_types.append(np.array(single_arrival_sequence_type))\n",
    "    return arrival_sequences_times, arrival_sequences_types\n",
    "\n",
    "\n",
    "\n",
    "# Code to test out above function\n",
    "np.random.seed(1)\n",
    "nSimulations_test = 100\n",
    "rates_test = np.array([5.0, 2.0, 3.0])\n",
    "T_test = 8\n",
    "x, y = generateArrivalSequences(nSimulations_test, rates_test, T_test)\n",
    "\n",
    "# If code above is working correctly, code below should show\n",
    "# value of 80.71:\n",
    "counts = np.array([len(y[i]) for i in range(nSimulations_test)] )\n",
    "counts.mean()"
   ]
  },
  {
   "cell_type": "markdown",
   "metadata": {},
   "source": [
    "### a)"
   ]
  },
  {
   "cell_type": "code",
   "execution_count": 107,
   "metadata": {},
   "outputs": [
    {
     "name": "stdout",
     "output_type": "stream",
     "text": [
      "The average number of arrivals of type C1 in the set of simulated sequences is  26.63 .\n"
     ]
    }
   ],
   "source": [
    "np.random.seed(10)\n",
    "nSimulations = 100\n",
    "arrival_sequences_times, arrival_sequences_types = generateArrivalSequences(nSimulations, rate, T)\n",
    "\n",
    "ave_arrivals_1 = np.average([sum(arrival_sequences_types[i] == 0) for i in range(100)])\n",
    "\n",
    "print(f'The average number of arrivals of type C1 in the set of simulated sequences is ', ave_arrivals_1, '.')"
   ]
  },
  {
   "cell_type": "markdown",
   "metadata": {},
   "source": [
    "### b)"
   ]
  },
  {
   "cell_type": "code",
   "execution_count": 108,
   "metadata": {},
   "outputs": [
    {
     "name": "stdout",
     "output_type": "stream",
     "text": [
      "The average number of arrivals, of all types, over the set of simulated sequences is  101.0 .\n",
      "This makes sense because it is close to the expected value of the sum of Poisson random variables, which is  99.50000000000001 .\n"
     ]
    }
   ],
   "source": [
    "ave_arrivals_all = np.average([len(arrival_sequences_types[i]) for i in range(100)])\n",
    "\n",
    "print(f'The average number of arrivals, of all types, over the set of simulated sequences is ', ave_arrivals_all, '.')\n",
    "\n",
    "print(f'This makes sense because it is close to the expected value of the sum of Poisson random variables, which is ', sum(r)*T, '.')"
   ]
  },
  {
   "cell_type": "markdown",
   "metadata": {},
   "source": [
    "### c)\n",
    "\n",
    "## Skeleton code for function to run myopic policy (Q2, Part 3)"
   ]
  },
  {
   "cell_type": "code",
   "execution_count": 109,
   "metadata": {},
   "outputs": [
    {
     "name": "stdout",
     "output_type": "stream",
     "text": [
      "The average revenue garnered by this policy over the 100 simulated sequences is 528.28 .\n"
     ]
    }
   ],
   "source": [
    "# Preconditions for code below:\n",
    "# nSimulations = number of simulations to run\n",
    "# nResources = number of different types of resources (= 3)\n",
    "# B = numpy array of initial capacities of the resources\n",
    "# arrival_sequences_times = array where each entry is arrival time sequence for that\n",
    "# simulation\n",
    "# arrival_sequences_types = array where each entry is sequence of request types for\n",
    "# that simulation\n",
    "\n",
    "# Note: code will not run; parts with ... need to be filled in.\n",
    "\n",
    "np.random.seed(10)\n",
    "nResources = 3\n",
    "nSimulations = 100\n",
    "B = np.array([512,1024,64])\n",
    "arrival_sequences_times, arrival_sequences_types = generateArrivalSequences(nSimulations, rate, T)\n",
    "\n",
    "results_myopic_revenue = np.zeros(nSimulations)\n",
    "results_myopic_remaining_capacity = np.zeros((nResources, nSimulations))\n",
    "\n",
    "for s in range(nSimulations):\n",
    "    b = B.copy();\n",
    "    single_revenue = 0.0; # will contain the revenue of this simulation\n",
    "    nArrivals = len(arrival_sequences_times[s]);\n",
    "\n",
    "    # Go through the arrivals in sequence\n",
    "    for j in range(nArrivals):\n",
    "        # Obtain the time of the arrival, and its type (i)\n",
    "        arrival_time = arrival_sequences_times[s][j]\n",
    "        i = arrival_sequences_types[s][j]\n",
    "\n",
    "        # Check if there is sufficient capacity for the request\n",
    "        if ( b[0] >= C[i] and b[1] >= M[i] and b[2] >= G[i] ):\n",
    "            # If there is sufficient capacity, accrue the revenue\n",
    "            # and remove the capacity.\n",
    "            b[0] -= C[i]\n",
    "            b[1] -= M[i]\n",
    "            b[2] -= G[i]\n",
    "            single_revenue += p[i]\n",
    "\n",
    "    # Save the results of this simulation here ...\n",
    "    results_myopic_revenue[s] = single_revenue\n",
    "    results_myopic_remaining_capacity[0][s] = b[0]\n",
    "    results_myopic_remaining_capacity[1][s] = b[1]\n",
    "    results_myopic_remaining_capacity[2][s] = b[2]\n",
    "\n",
    "# Find the average revenue\n",
    "ave_revenue = np.average(results_myopic_revenue)\n",
    "print('The average revenue garnered by this policy over the 100 simulated sequences is', ave_revenue, '.')"
   ]
  },
  {
   "cell_type": "markdown",
   "metadata": {},
   "source": [
    "### d)"
   ]
  },
  {
   "cell_type": "code",
   "execution_count": 110,
   "metadata": {},
   "outputs": [
    {
     "name": "stdout",
     "output_type": "stream",
     "text": [
      "The average remaining capacity of CPUs of this policy is 0.24 .\n",
      "The average remaining capacity of memory of this policy is 371.52 .\n",
      "The average remaining capacity of GPUs of this policy is 37.42 .\n"
     ]
    }
   ],
   "source": [
    "# Find the average remaining quantity of each resource\n",
    "ave_capacity_C = np.average(results_myopic_remaining_capacity[0])\n",
    "ave_capacity_M = np.average(results_myopic_remaining_capacity[1])\n",
    "ave_capacity_G = np.average(results_myopic_remaining_capacity[2])\n",
    "print('The average remaining capacity of CPUs of this policy is', ave_capacity_C, '.')\n",
    "print('The average remaining capacity of memory of this policy is', ave_capacity_M, '.')\n",
    "print('The average remaining capacity of GPUs of this policy is', ave_capacity_G, '.')"
   ]
  },
  {
   "cell_type": "markdown",
   "metadata": {},
   "source": [
    "## Part 4: A bid-price control policy\n",
    "\n",
    "### a)\n",
    "\n",
    "\n",
    "\\begin{equation*}\n",
    "16\\pi_{1} + 64\\pi_{2} + \\pi_{3}\n",
    "\\end{equation*}\n",
    "\n",
    "\n",
    "\n",
    "### b)\n",
    "\n",
    "\\begin{equation*}\n",
    "(T-t)\\lambda_i\n",
    "\\end{equation*}\n",
    "\n",
    "\n",
    "### c)"
   ]
  },
  {
   "cell_type": "markdown",
   "metadata": {},
   "source": [
    "## Skeleton code for function to run bid-price control policy (Q2, Part 4)"
   ]
  },
  {
   "cell_type": "code",
   "execution_count": 113,
   "metadata": {},
   "outputs": [
    {
     "name": "stdout",
     "output_type": "stream",
     "text": [
      "Gurobi Optimizer version 11.0.0 build v11.0.0rc2 (mac64[x86] - Darwin 23.2.0 23C71)\n",
      "\n",
      "CPU model: Intel(R) Core(TM) i5-1038NG7 CPU @ 2.00GHz\n",
      "Thread count: 4 physical cores, 8 logical processors, using up to 8 threads\n",
      "\n",
      "Optimize a model with 3 rows, 9 columns and 27 nonzeros\n",
      "Model fingerprint: 0x207d4a09\n",
      "Coefficient statistics:\n",
      "  Matrix range     [1e+00, 1e+02]\n",
      "  Objective range  [7e+00, 1e+02]\n",
      "  Bounds range     [2e+00, 2e+01]\n",
      "  RHS range        [6e+01, 1e+03]\n",
      "Presolve removed 0 rows and 1 columns\n",
      "Presolve time: 0.02s\n",
      "Presolved: 3 rows, 8 columns, 24 nonzeros\n",
      "\n",
      "Iteration    Objective       Primal Inf.    Dual Inf.      Time\n",
      "       0    1.4400000e+03   7.200000e+01   0.000000e+00      0s\n",
      "       3    1.0394286e+03   0.000000e+00   0.000000e+00      0s\n",
      "\n",
      "Solved in 3 iterations and 0.04 seconds (0.00 work units)\n",
      "Optimal objective  1.039428571e+03\n"
     ]
    }
   ],
   "source": [
    "# Preconditions for code below:\n",
    "# nSimulations = number of simulations to run\n",
    "# nResources = number of different types of resources (= 3)\n",
    "# B = numpy array of initial capacities of the resources\n",
    "# arrival_sequences_times = array where each entry is arrival time sequence for that\n",
    "# simulation\n",
    "# arrival_sequences_types = array where each entry is sequence of request types for\n",
    "# that simulation\n",
    "\n",
    "# Your LP formulation should be defined here\n",
    "# (or somewhere before the definition of bpc()...)\n",
    "\n",
    "# Create the model\n",
    "m = Model()\n",
    "\n",
    "# Create variables\n",
    "x = m.addVars(nIns, lb = 0, ub = T*rate)\n",
    "\n",
    "# Create the seat constraint\n",
    "C_constr = m.addConstr( sum(x[i] * C[i] for i in range(nIns)) <= 512 )\n",
    "m_constr = m.addConstr( sum(x[i] * M[i] for i in range(nIns)) <= 1024)\n",
    "G_constr = m.addConstr( sum(x[i] * G[i] for i in range(nIns)) <= 64)\n",
    "\n",
    "# Set the objective\n",
    "m.setObjective(sum( x[i] * p[i] for i in range(nIns)), GRB.MAXIMIZE )\n",
    "\n",
    "# Update + solve:\n",
    "m.update()\n",
    "m.optimize()\n",
    "\n",
    "np.random.seed(10)\n",
    "nResources = 3\n",
    "nSimulations = 100\n",
    "B = np.array([512,1024,64])\n",
    "arrival_sequences_times, arrival_sequences_types = generateArrivalSequences(nSimulations, r, T)\n",
    "\n",
    "instances = np.array([[16, 8, 1],\n",
    "                    [32, 16, 1],\n",
    "                    [64, 32, 1],\n",
    "                    [8, 32, 1],\n",
    "                    [16, 64, 1],\n",
    "                    [32, 128, 1],\n",
    "                    [16, 16, 2],\n",
    "                    [32, 32, 6],\n",
    "                    [64, 64, 8]])\n",
    "\n",
    "m.Params.outputflag = 0\n",
    "\n",
    "# As we did in-class, define a function bpc() to re-solve the LO each time:\n",
    "def bpc(b, t):\n",
    "    for r in range(nResources):\n",
    "        # Set the RHS of the resource constraint to b[r] here\n",
    "        C_constr.rhs = b[0]\n",
    "        m_constr.rhs = b[1]\n",
    "        G_constr.rhs = b[2]\n",
    "\n",
    "    for i in range(nIns):\n",
    "        # Set the RHS of the forecast constraint for each instance\n",
    "        # type to the expected number of requests over the duration\n",
    "        # of the remaining horizon (T - t).\n",
    "        x[i].ub = (T - t) * rate[i]\n",
    "\n",
    "    # Re-solve the model:\n",
    "    m.update()\n",
    "    m.optimize()\n",
    "\n",
    "    # Obtain the dual values/shadow prices\n",
    "    dual_val = np.array([C_constr.pi, m_constr.pi, G_constr.pi])\n",
    "\n",
    "    # Return the dual values:\n",
    "    return dual_val\n",
    "\n",
    "\n",
    "\n",
    "results_revenue = np.zeros(nSimulations)\n",
    "results_remaining_capacity = np.zeros((nResources, nSimulations))\n",
    "for s in range(nSimulations):\n",
    "    b = B.copy() #Initialize the current capacity\n",
    "    single_revenue = 0.0 #Initialize the revenue garnered in this simulation\n",
    "    nArrivals = len(arrival_sequences_times[s])\n",
    "    for j in range(nArrivals):\n",
    "        # Take the next arrival time and type from the sequence\n",
    "        arrival_time = arrival_sequences_times[s][j]\n",
    "        i = arrival_sequences_types[s][j]\n",
    "\n",
    "        # Check if there is enough capacity\n",
    "        if ( b[0] >= C[i] and b[1] >= M[i] and b[2] >= G[i] ):\n",
    "            # Re-solve the LO and obtain the dual values\n",
    "            dual_val = bpc(b, arrival_time)\n",
    "\n",
    "            # Check if the revenue is at least the sum of the bid prices:\n",
    "            if ( dual_val.dot(instances[i]) <= p[i] ):\n",
    "                # If there is sufficient capacity, accrue the revenue\n",
    "                # and remove the capacity.\n",
    "                b[0] -= C[i]\n",
    "                b[1] -= M[i]\n",
    "                b[2] -= G[i]\n",
    "                single_revenue += p[i]  \n",
    "\n",
    "    # Save the results of this simulation here:\n",
    "    results_revenue[s] = single_revenue\n",
    "    results_remaining_capacity[0][s] = b[0]\n",
    "    results_remaining_capacity[1][s] = b[1]\n",
    "    results_remaining_capacity[2][s] = b[2]"
   ]
  },
  {
   "cell_type": "code",
   "execution_count": 114,
   "metadata": {},
   "outputs": [
    {
     "name": "stdout",
     "output_type": "stream",
     "text": [
      "The average revenue garnered by this policy over the 100 simulated sequences is 925.59 .\n"
     ]
    }
   ],
   "source": [
    "# Find the average revenue\n",
    "ave_revenue = np.average(results_revenue)\n",
    "print('The average revenue garnered by this policy over the 100 simulated sequences is', ave_revenue, '.')"
   ]
  },
  {
   "cell_type": "markdown",
   "metadata": {},
   "source": [
    "### d)"
   ]
  },
  {
   "cell_type": "code",
   "execution_count": 115,
   "metadata": {},
   "outputs": [
    {
     "name": "stdout",
     "output_type": "stream",
     "text": [
      "The average remaining capacity of CPUs of this policy is 27.2 .\n",
      "The average remaining capacity of memory of this policy is 4.88 .\n",
      "The average remaining capacity of GPUs of this policy is 20.62 .\n"
     ]
    }
   ],
   "source": [
    "# Find the average remaining quantity of each resource\n",
    "ave_capacity_C = np.average(results_remaining_capacity[0])\n",
    "ave_capacity_M = np.average(results_remaining_capacity[1])\n",
    "ave_capacity_G = np.average(results_remaining_capacity[2])\n",
    "print('The average remaining capacity of CPUs of this policy is', ave_capacity_C, '.')\n",
    "print('The average remaining capacity of memory of this policy is', ave_capacity_M, '.')\n",
    "print('The average remaining capacity of GPUs of this policy is', ave_capacity_G, '.')"
   ]
  }
 ],
 "metadata": {
  "kernelspec": {
   "display_name": "Python 3 (ipykernel)",
   "language": "python",
   "name": "python3"
  },
  "language_info": {
   "codemirror_mode": {
    "name": "ipython",
    "version": 3
   },
   "file_extension": ".py",
   "mimetype": "text/x-python",
   "name": "python",
   "nbconvert_exporter": "python",
   "pygments_lexer": "ipython3",
   "version": "3.9.12"
  }
 },
 "nbformat": 4,
 "nbformat_minor": 2
}
